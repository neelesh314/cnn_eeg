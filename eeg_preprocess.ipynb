{
 "cells": [
  {
   "cell_type": "code",
   "execution_count": 1,
   "metadata": {},
   "outputs": [],
   "source": [
    "import pickle\n",
    "import numpy as np\n",
    "import mne\n",
    "from mne.preprocessing import ICA\n",
    "import sys\n",
    "sys.path.append('utils/')\n",
    "from config import * #contains preprocessing hyperparameters"
   ]
  },
  {
   "cell_type": "code",
   "execution_count": null,
   "metadata": {},
   "outputs": [],
   "source": [
    "FILE_PATH = './data/sub1.bdf' #path to the data\n",
    "SAVE_PATH = './preprocessed/sub1.fif' #path to save preprocessed data\n",
    "\n",
    "#Load and read data\n",
    "raw = mne.io.read_raw_bdf(FILE_PATH, preload=True)\n",
    "picks= mne.pick_types(raw.info, meg= False, eeg=True, eog=True, stim= True)\n",
    "\n",
    "#Visual inspection of data to mark bad channels\n",
    "order = np.arange(raw.info['nchan'])\n",
    "raw.plot(n_channels=15, order=order, show=True)"
   ]
  },
  {
   "cell_type": "code",
   "execution_count": null,
   "metadata": {},
   "outputs": [],
   "source": [
    "#Set EEG channel types and drop unnecessary channels\n",
    "raw.drop_channels(DROPPED_CHANNELS)\n",
    "raw.set_channel_types(mapping={'EXG1': 'eog','Status':'stim'})\n"
   ]
  },
  {
   "cell_type": "code",
   "execution_count": null,
   "metadata": {},
   "outputs": [],
   "source": [
    "#Notch filter and Bandpass filter with zero phase\n",
    "raw.notch_filter(np.arange(60, 241, 60), picks=picks, filter_length='auto',phase='zero')\n",
    "raw.filter(LFREQ, HFREQ, picks=picks, filter_length='auto', phase='zero', fir_design='firwin')"
   ]
  },
  {
   "cell_type": "code",
   "execution_count": null,
   "metadata": {},
   "outputs": [],
   "source": [
    "#Set EEG Montage\n",
    "#This would typically be the digitized points but can also set average head\n",
    "montage= mne.channels.read_montage('biosemi128')\n",
    "raw.set_montage(montage)"
   ]
  },
  {
   "cell_type": "code",
   "execution_count": null,
   "metadata": {},
   "outputs": [],
   "source": [
    "#Eye artifact removal using ICA Analysis of Data\n",
    "n_components = 25 \n",
    "method = 'fastica'\n",
    "random_state = 15\n",
    "ica = ICA(n_components=n_components, method= method, random_state= random_state)\n",
    "ica.fit(raw, picks=picks)\n",
    "\n",
    "# find which ICs match the EOG pattern\n",
    "eog_indices, eog_scores = ica.find_bads_eog(raw)\n",
    "ica.exclude = eog_indices"
   ]
  },
  {
   "cell_type": "code",
   "execution_count": null,
   "metadata": {},
   "outputs": [],
   "source": [
    "# barplot of ICA component \"EOG match\" scores\n",
    "ica.plot_scores(eog_scores)\n",
    "\n",
    "# plot ICs applied to raw data, with EOG matches highlighted\n",
    "ica.plot_sources(raw, show_scrollbars=True)"
   ]
  },
  {
   "cell_type": "code",
   "execution_count": null,
   "metadata": {},
   "outputs": [],
   "source": [
    "ica.apply(raw)\n",
    "raw.save(SAVE_PATH, picks=picks, overwrite=True)"
   ]
  }
 ],
 "metadata": {
  "kernelspec": {
   "display_name": "Python 3 (ipykernel)",
   "language": "python",
   "name": "python3"
  },
  "language_info": {
   "codemirror_mode": {
    "name": "ipython",
    "version": 3
   },
   "file_extension": ".py",
   "mimetype": "text/x-python",
   "name": "python",
   "nbconvert_exporter": "python",
   "pygments_lexer": "ipython3",
   "version": "3.8.10"
  }
 },
 "nbformat": 4,
 "nbformat_minor": 4
}
